{
 "cells": [
  {
   "cell_type": "code",
   "execution_count": 1,
   "metadata": {
    "collapsed": true
   },
   "outputs": [],
   "source": [
    "import pandas as pd\n",
    "import numpy as np"
   ]
  },
  {
   "cell_type": "code",
   "execution_count": 3,
   "metadata": {
    "collapsed": true
   },
   "outputs": [],
   "source": [
    "import matplotlib.pyplot as plt\n",
    "%matplotlib inline"
   ]
  },
  {
   "cell_type": "code",
   "execution_count": 4,
   "metadata": {
    "collapsed": true
   },
   "outputs": [],
   "source": [
    "df=pd.read_csv(\"./Data/GlobalLandTemperaturesByCity.csv\")\n",
    "df = df.dropna()"
   ]
  },
  {
   "cell_type": "code",
   "execution_count": 5,
   "metadata": {},
   "outputs": [
    {
     "data": {
      "text/html": [
       "<div>\n",
       "<style>\n",
       "    .dataframe thead tr:only-child th {\n",
       "        text-align: right;\n",
       "    }\n",
       "\n",
       "    .dataframe thead th {\n",
       "        text-align: left;\n",
       "    }\n",
       "\n",
       "    .dataframe tbody tr th {\n",
       "        vertical-align: top;\n",
       "    }\n",
       "</style>\n",
       "<table border=\"1\" class=\"dataframe\">\n",
       "  <thead>\n",
       "    <tr style=\"text-align: right;\">\n",
       "      <th></th>\n",
       "      <th>dt</th>\n",
       "      <th>AverageTemperature</th>\n",
       "      <th>AverageTemperatureUncertainty</th>\n",
       "      <th>City</th>\n",
       "      <th>Country</th>\n",
       "      <th>Latitude</th>\n",
       "      <th>Longitude</th>\n",
       "    </tr>\n",
       "  </thead>\n",
       "  <tbody>\n",
       "    <tr>\n",
       "      <th>0</th>\n",
       "      <td>1743-11-01</td>\n",
       "      <td>6.068</td>\n",
       "      <td>1.737</td>\n",
       "      <td>Århus</td>\n",
       "      <td>Denmark</td>\n",
       "      <td>57.05N</td>\n",
       "      <td>10.33E</td>\n",
       "    </tr>\n",
       "    <tr>\n",
       "      <th>5</th>\n",
       "      <td>1744-04-01</td>\n",
       "      <td>5.788</td>\n",
       "      <td>3.624</td>\n",
       "      <td>Århus</td>\n",
       "      <td>Denmark</td>\n",
       "      <td>57.05N</td>\n",
       "      <td>10.33E</td>\n",
       "    </tr>\n",
       "    <tr>\n",
       "      <th>6</th>\n",
       "      <td>1744-05-01</td>\n",
       "      <td>10.644</td>\n",
       "      <td>1.283</td>\n",
       "      <td>Århus</td>\n",
       "      <td>Denmark</td>\n",
       "      <td>57.05N</td>\n",
       "      <td>10.33E</td>\n",
       "    </tr>\n",
       "    <tr>\n",
       "      <th>7</th>\n",
       "      <td>1744-06-01</td>\n",
       "      <td>14.051</td>\n",
       "      <td>1.347</td>\n",
       "      <td>Århus</td>\n",
       "      <td>Denmark</td>\n",
       "      <td>57.05N</td>\n",
       "      <td>10.33E</td>\n",
       "    </tr>\n",
       "    <tr>\n",
       "      <th>8</th>\n",
       "      <td>1744-07-01</td>\n",
       "      <td>16.082</td>\n",
       "      <td>1.396</td>\n",
       "      <td>Århus</td>\n",
       "      <td>Denmark</td>\n",
       "      <td>57.05N</td>\n",
       "      <td>10.33E</td>\n",
       "    </tr>\n",
       "  </tbody>\n",
       "</table>\n",
       "</div>"
      ],
      "text/plain": [
       "           dt  AverageTemperature  AverageTemperatureUncertainty   City  \\\n",
       "0  1743-11-01               6.068                          1.737  Århus   \n",
       "5  1744-04-01               5.788                          3.624  Århus   \n",
       "6  1744-05-01              10.644                          1.283  Århus   \n",
       "7  1744-06-01              14.051                          1.347  Århus   \n",
       "8  1744-07-01              16.082                          1.396  Århus   \n",
       "\n",
       "   Country Latitude Longitude  \n",
       "0  Denmark   57.05N    10.33E  \n",
       "5  Denmark   57.05N    10.33E  \n",
       "6  Denmark   57.05N    10.33E  \n",
       "7  Denmark   57.05N    10.33E  \n",
       "8  Denmark   57.05N    10.33E  "
      ]
     },
     "execution_count": 5,
     "metadata": {},
     "output_type": "execute_result"
    }
   ],
   "source": [
    "df.head()\n"
   ]
  },
  {
   "cell_type": "code",
   "execution_count": 6,
   "metadata": {
    "collapsed": true
   },
   "outputs": [],
   "source": [
    "df1 = df.loc[df['City'] == \"New York\"]"
   ]
  },
  {
   "cell_type": "code",
   "execution_count": 7,
   "metadata": {},
   "outputs": [
    {
     "data": {
      "text/html": [
       "<div>\n",
       "<style>\n",
       "    .dataframe thead tr:only-child th {\n",
       "        text-align: right;\n",
       "    }\n",
       "\n",
       "    .dataframe thead th {\n",
       "        text-align: left;\n",
       "    }\n",
       "\n",
       "    .dataframe tbody tr th {\n",
       "        vertical-align: top;\n",
       "    }\n",
       "</style>\n",
       "<table border=\"1\" class=\"dataframe\">\n",
       "  <thead>\n",
       "    <tr style=\"text-align: right;\">\n",
       "      <th></th>\n",
       "      <th>dt</th>\n",
       "      <th>AverageTemperature</th>\n",
       "      <th>AverageTemperatureUncertainty</th>\n",
       "      <th>City</th>\n",
       "      <th>Country</th>\n",
       "      <th>Latitude</th>\n",
       "      <th>Longitude</th>\n",
       "    </tr>\n",
       "  </thead>\n",
       "  <tbody>\n",
       "    <tr>\n",
       "      <th>5203973</th>\n",
       "      <td>1743-11-01</td>\n",
       "      <td>3.264</td>\n",
       "      <td>1.665</td>\n",
       "      <td>New York</td>\n",
       "      <td>United States</td>\n",
       "      <td>40.99N</td>\n",
       "      <td>74.56W</td>\n",
       "    </tr>\n",
       "    <tr>\n",
       "      <th>5203978</th>\n",
       "      <td>1744-04-01</td>\n",
       "      <td>9.788</td>\n",
       "      <td>2.151</td>\n",
       "      <td>New York</td>\n",
       "      <td>United States</td>\n",
       "      <td>40.99N</td>\n",
       "      <td>74.56W</td>\n",
       "    </tr>\n",
       "    <tr>\n",
       "      <th>5203979</th>\n",
       "      <td>1744-05-01</td>\n",
       "      <td>15.708</td>\n",
       "      <td>1.506</td>\n",
       "      <td>New York</td>\n",
       "      <td>United States</td>\n",
       "      <td>40.99N</td>\n",
       "      <td>74.56W</td>\n",
       "    </tr>\n",
       "    <tr>\n",
       "      <th>5203980</th>\n",
       "      <td>1744-06-01</td>\n",
       "      <td>21.210</td>\n",
       "      <td>1.455</td>\n",
       "      <td>New York</td>\n",
       "      <td>United States</td>\n",
       "      <td>40.99N</td>\n",
       "      <td>74.56W</td>\n",
       "    </tr>\n",
       "    <tr>\n",
       "      <th>5203981</th>\n",
       "      <td>1744-07-01</td>\n",
       "      <td>22.207</td>\n",
       "      <td>1.305</td>\n",
       "      <td>New York</td>\n",
       "      <td>United States</td>\n",
       "      <td>40.99N</td>\n",
       "      <td>74.56W</td>\n",
       "    </tr>\n",
       "  </tbody>\n",
       "</table>\n",
       "</div>"
      ],
      "text/plain": [
       "                 dt  AverageTemperature  AverageTemperatureUncertainty  \\\n",
       "5203973  1743-11-01               3.264                          1.665   \n",
       "5203978  1744-04-01               9.788                          2.151   \n",
       "5203979  1744-05-01              15.708                          1.506   \n",
       "5203980  1744-06-01              21.210                          1.455   \n",
       "5203981  1744-07-01              22.207                          1.305   \n",
       "\n",
       "             City        Country Latitude Longitude  \n",
       "5203973  New York  United States   40.99N    74.56W  \n",
       "5203978  New York  United States   40.99N    74.56W  \n",
       "5203979  New York  United States   40.99N    74.56W  \n",
       "5203980  New York  United States   40.99N    74.56W  \n",
       "5203981  New York  United States   40.99N    74.56W  "
      ]
     },
     "execution_count": 7,
     "metadata": {},
     "output_type": "execute_result"
    }
   ],
   "source": [
    "df1.head()"
   ]
  },
  {
   "cell_type": "code",
   "execution_count": 8,
   "metadata": {},
   "outputs": [
    {
     "data": {
      "text/plain": [
       "21833"
      ]
     },
     "execution_count": 8,
     "metadata": {},
     "output_type": "execute_result"
    }
   ],
   "source": [
    "df1.size"
   ]
  },
  {
   "cell_type": "code",
   "execution_count": 9,
   "metadata": {
    "collapsed": true
   },
   "outputs": [],
   "source": [
    "data = list(df1.iloc[:,1])"
   ]
  },
  {
   "cell_type": "code",
   "execution_count": 10,
   "metadata": {
    "collapsed": true
   },
   "outputs": [],
   "source": [
    "mean = np.mean(np.array(data))\n",
    "std = np.std(np.array(data))"
   ]
  },
  {
   "cell_type": "code",
   "execution_count": 11,
   "metadata": {
    "collapsed": true
   },
   "outputs": [],
   "source": [
    "data1 = (np.array(data) - mean)/std"
   ]
  },
  {
   "cell_type": "code",
   "execution_count": 12,
   "metadata": {
    "collapsed": true
   },
   "outputs": [],
   "source": [
    "X = []\n",
    "Y = []\n",
    "for i in range(0, len(list(data))-60):# 60 -> 70 if predicting for 20\n",
    "    X.append(data1[i:i+50])\n",
    "    Y.append(data1[i+50:i+60])# 60 -> 70 if predicting for 20"
   ]
  },
  {
   "cell_type": "code",
   "execution_count": 13,
   "metadata": {
    "collapsed": true
   },
   "outputs": [],
   "source": [
    "X_1 = np.array(X)\n",
    "Y_1 = np.array(Y)"
   ]
  },
  {
   "cell_type": "code",
   "execution_count": 14,
   "metadata": {
    "collapsed": true
   },
   "outputs": [],
   "source": [
    "X_2 = X_1.reshape(X_1.shape[0],50,1)\n",
    "Y_2 = Y_1.reshape(Y_1.shape[0], 10)# 10 -> 20 if predicting for 20"
   ]
  },
  {
   "cell_type": "code",
   "execution_count": 15,
   "metadata": {},
   "outputs": [
    {
     "data": {
      "text/plain": [
       "(3059, 10)"
      ]
     },
     "execution_count": 15,
     "metadata": {},
     "output_type": "execute_result"
    }
   ],
   "source": [
    "Y_2.shape"
   ]
  },
  {
   "cell_type": "code",
   "execution_count": 16,
   "metadata": {
    "collapsed": true
   },
   "outputs": [],
   "source": [
    "n = int(0.4*len(X))\n",
    "X_train = X_2[:-n]\n",
    "Y_train = Y_2[:-n]\n",
    "X_test = X_2[-n:]\n",
    "Y_test = Y_2[-n:]"
   ]
  },
  {
   "cell_type": "code",
   "execution_count": 17,
   "metadata": {},
   "outputs": [
    {
     "name": "stdout",
     "output_type": "stream",
     "text": [
      "(2448, 50, 1) (2448, 10) (611, 50, 1) (611, 10)\n"
     ]
    }
   ],
   "source": [
    "print(X_train.shape, Y_train.shape, X_test.shape, Y_test.shape)"
   ]
  },
  {
   "cell_type": "code",
   "execution_count": 18,
   "metadata": {},
   "outputs": [
    {
     "name": "stderr",
     "output_type": "stream",
     "text": [
      "/Users/adityadev/anaconda3/lib/python3.6/site-packages/h5py/__init__.py:34: FutureWarning: Conversion of the second argument of issubdtype from `float` to `np.floating` is deprecated. In future, it will be treated as `np.float64 == np.dtype(float).type`.\n",
      "  from ._conv import register_converters as _register_converters\n",
      "Using TensorFlow backend.\n"
     ]
    }
   ],
   "source": [
    "from keras.models import Sequential\n",
    "from keras.layers import Dense\n",
    "from keras.layers import Dropout\n",
    "from keras.layers import LSTM\n",
    "from keras.utils import np_utils"
   ]
  },
  {
   "cell_type": "code",
   "execution_count": 19,
   "metadata": {
    "collapsed": true
   },
   "outputs": [],
   "source": [
    "model = Sequential()\n",
    "model.add(LSTM(300, input_shape=(50,1), return_sequences=True))\n",
    "model.add(Dropout(0.5))\n",
    "model.add(LSTM(300))\n",
    "model.add(Dropout(0.5))\n",
    "model.add(Dense(10, activation='relu'))# 10 -> 20 if predicting for 20\n",
    "\n",
    "model.compile(loss='mse', optimizer='sgd', metrics=['accuracy', 'mae'])"
   ]
  },
  {
   "cell_type": "code",
   "execution_count": 20,
   "metadata": {},
   "outputs": [
    {
     "name": "stdout",
     "output_type": "stream",
     "text": [
      "Train on 1958 samples, validate on 490 samples\n",
      "Epoch 1/50\n",
      "1958/1958 [==============================] - 65s 33ms/step - loss: 1.0124 - acc: 0.2022 - mean_absolute_error: 0.8922 - val_loss: 0.9601 - val_acc: 0.2449 - val_mean_absolute_error: 0.8693\n",
      "Epoch 2/50\n",
      "1958/1958 [==============================] - 59s 30ms/step - loss: 1.0069 - acc: 0.2247 - mean_absolute_error: 0.8897 - val_loss: 0.9534 - val_acc: 0.2061 - val_mean_absolute_error: 0.8661\n",
      "Epoch 3/50\n",
      "1958/1958 [==============================] - 56s 28ms/step - loss: 1.0012 - acc: 0.2431 - mean_absolute_error: 0.8872 - val_loss: 0.9469 - val_acc: 0.2816 - val_mean_absolute_error: 0.8630\n",
      "Epoch 4/50\n",
      "1958/1958 [==============================] - 33s 17ms/step - loss: 0.9950 - acc: 0.2528 - mean_absolute_error: 0.8843 - val_loss: 0.9387 - val_acc: 0.2490 - val_mean_absolute_error: 0.8590\n",
      "Epoch 5/50\n",
      "1958/1958 [==============================] - 35s 18ms/step - loss: 0.9882 - acc: 0.2589 - mean_absolute_error: 0.8811 - val_loss: 0.9304 - val_acc: 0.2755 - val_mean_absolute_error: 0.8549\n",
      "Epoch 6/50\n",
      "1958/1958 [==============================] - 40s 20ms/step - loss: 0.9804 - acc: 0.2686 - mean_absolute_error: 0.8773 - val_loss: 0.9212 - val_acc: 0.3306 - val_mean_absolute_error: 0.8504\n",
      "Epoch 7/50\n",
      "1958/1958 [==============================] - 39s 20ms/step - loss: 0.9727 - acc: 0.2886 - mean_absolute_error: 0.8737 - val_loss: 0.9127 - val_acc: 0.3959 - val_mean_absolute_error: 0.8461\n",
      "Epoch 8/50\n",
      "1958/1958 [==============================] - 42s 21ms/step - loss: 0.9645 - acc: 0.3121 - mean_absolute_error: 0.8696 - val_loss: 0.9039 - val_acc: 0.3224 - val_mean_absolute_error: 0.8415\n",
      "Epoch 9/50\n",
      "1958/1958 [==============================] - 39s 20ms/step - loss: 0.9565 - acc: 0.3069 - mean_absolute_error: 0.8655 - val_loss: 0.8941 - val_acc: 0.2735 - val_mean_absolute_error: 0.8365\n",
      "Epoch 10/50\n",
      "1958/1958 [==============================] - 37s 19ms/step - loss: 0.9472 - acc: 0.2926 - mean_absolute_error: 0.8606 - val_loss: 0.8843 - val_acc: 0.2633 - val_mean_absolute_error: 0.8311\n",
      "Epoch 11/50\n",
      "1958/1958 [==============================] - 41s 21ms/step - loss: 0.9384 - acc: 0.3054 - mean_absolute_error: 0.8555 - val_loss: 0.8732 - val_acc: 0.2571 - val_mean_absolute_error: 0.8251\n",
      "Epoch 12/50\n",
      "1958/1958 [==============================] - 44s 22ms/step - loss: 0.9295 - acc: 0.3121 - mean_absolute_error: 0.8508 - val_loss: 0.8631 - val_acc: 0.2449 - val_mean_absolute_error: 0.8192\n",
      "Epoch 13/50\n",
      "1958/1958 [==============================] - 46s 24ms/step - loss: 0.9203 - acc: 0.3156 - mean_absolute_error: 0.8453 - val_loss: 0.8525 - val_acc: 0.2429 - val_mean_absolute_error: 0.8129\n",
      "Epoch 14/50\n",
      "1958/1958 [==============================] - 39s 20ms/step - loss: 0.9093 - acc: 0.3264 - mean_absolute_error: 0.8387 - val_loss: 0.8380 - val_acc: 0.2673 - val_mean_absolute_error: 0.8046\n",
      "Epoch 15/50\n",
      "1958/1958 [==============================] - 44s 23ms/step - loss: 0.8984 - acc: 0.3355 - mean_absolute_error: 0.8320 - val_loss: 0.8254 - val_acc: 0.2694 - val_mean_absolute_error: 0.7968\n",
      "Epoch 16/50\n",
      "1958/1958 [==============================] - 46s 23ms/step - loss: 0.8856 - acc: 0.3371 - mean_absolute_error: 0.8243 - val_loss: 0.8091 - val_acc: 0.2796 - val_mean_absolute_error: 0.7869\n",
      "Epoch 17/50\n",
      "1958/1958 [==============================] - 44s 22ms/step - loss: 0.8715 - acc: 0.3417 - mean_absolute_error: 0.8152 - val_loss: 0.7913 - val_acc: 0.3082 - val_mean_absolute_error: 0.7761\n",
      "Epoch 18/50\n",
      "1958/1958 [==============================] - 41s 21ms/step - loss: 0.8565 - acc: 0.3641 - mean_absolute_error: 0.8059 - val_loss: 0.7746 - val_acc: 0.3143 - val_mean_absolute_error: 0.7652\n",
      "Epoch 19/50\n",
      "1958/1958 [==============================] - 40s 20ms/step - loss: 0.8415 - acc: 0.3830 - mean_absolute_error: 0.7959 - val_loss: 0.7573 - val_acc: 0.3347 - val_mean_absolute_error: 0.7536\n",
      "Epoch 20/50\n",
      "1958/1958 [==============================] - 37s 19ms/step - loss: 0.8268 - acc: 0.3851 - mean_absolute_error: 0.7858 - val_loss: 0.7400 - val_acc: 0.3449 - val_mean_absolute_error: 0.7417\n",
      "Epoch 21/50\n",
      "1958/1958 [==============================] - 42s 21ms/step - loss: 0.8115 - acc: 0.4045 - mean_absolute_error: 0.7744 - val_loss: 0.7237 - val_acc: 0.3694 - val_mean_absolute_error: 0.7295\n",
      "Epoch 22/50\n",
      "1958/1958 [==============================] - 51s 26ms/step - loss: 0.7973 - acc: 0.4341 - mean_absolute_error: 0.7635 - val_loss: 0.7074 - val_acc: 0.3980 - val_mean_absolute_error: 0.7171\n",
      "Epoch 23/50\n",
      "1958/1958 [==============================] - 41s 21ms/step - loss: 0.7831 - acc: 0.4459 - mean_absolute_error: 0.7525 - val_loss: 0.6908 - val_acc: 0.4286 - val_mean_absolute_error: 0.7043\n",
      "Epoch 24/50\n",
      "1958/1958 [==============================] - 38s 20ms/step - loss: 0.7693 - acc: 0.4576 - mean_absolute_error: 0.7413 - val_loss: 0.6735 - val_acc: 0.4571 - val_mean_absolute_error: 0.6907\n",
      "Epoch 25/50\n",
      "1958/1958 [==============================] - 41s 21ms/step - loss: 0.7513 - acc: 0.4780 - mean_absolute_error: 0.7277 - val_loss: 0.6485 - val_acc: 0.4816 - val_mean_absolute_error: 0.6726\n",
      "Epoch 26/50\n",
      "1958/1958 [==============================] - 41s 21ms/step - loss: 0.7315 - acc: 0.4740 - mean_absolute_error: 0.7125 - val_loss: 0.6273 - val_acc: 0.4980 - val_mean_absolute_error: 0.6560\n",
      "Epoch 27/50\n",
      "1958/1958 [==============================] - 39s 20ms/step - loss: 0.7143 - acc: 0.4974 - mean_absolute_error: 0.6983 - val_loss: 0.6097 - val_acc: 0.5122 - val_mean_absolute_error: 0.6407\n",
      "Epoch 28/50\n",
      "1958/1958 [==============================] - 37s 19ms/step - loss: 0.6976 - acc: 0.5031 - mean_absolute_error: 0.6840 - val_loss: 0.5862 - val_acc: 0.5306 - val_mean_absolute_error: 0.6226\n",
      "Epoch 29/50\n",
      "1958/1958 [==============================] - 45s 23ms/step - loss: 0.6775 - acc: 0.5215 - mean_absolute_error: 0.6681 - val_loss: 0.5626 - val_acc: 0.5449 - val_mean_absolute_error: 0.6036\n",
      "Epoch 30/50\n",
      "1958/1958 [==============================] - 40s 20ms/step - loss: 0.6598 - acc: 0.5337 - mean_absolute_error: 0.6523 - val_loss: 0.5449 - val_acc: 0.5490 - val_mean_absolute_error: 0.5876\n",
      "Epoch 31/50\n",
      "1958/1958 [==============================] - 41s 21ms/step - loss: 0.6484 - acc: 0.5403 - mean_absolute_error: 0.6414 - val_loss: 0.5315 - val_acc: 0.5612 - val_mean_absolute_error: 0.5740\n",
      "Epoch 32/50\n",
      "1958/1958 [==============================] - 39s 20ms/step - loss: 0.6387 - acc: 0.5541 - mean_absolute_error: 0.6302 - val_loss: 0.5207 - val_acc: 0.5816 - val_mean_absolute_error: 0.5626\n",
      "Epoch 33/50\n",
      "1958/1958 [==============================] - 37s 19ms/step - loss: 0.6305 - acc: 0.5383 - mean_absolute_error: 0.6218 - val_loss: 0.5128 - val_acc: 0.6082 - val_mean_absolute_error: 0.5534\n",
      "Epoch 34/50\n",
      "1958/1958 [==============================] - 42s 22ms/step - loss: 0.6253 - acc: 0.5781 - mean_absolute_error: 0.6148 - val_loss: 0.5067 - val_acc: 0.6449 - val_mean_absolute_error: 0.5459\n",
      "Epoch 35/50\n",
      "1958/1958 [==============================] - 39s 20ms/step - loss: 0.6204 - acc: 0.5858 - mean_absolute_error: 0.6086 - val_loss: 0.5016 - val_acc: 0.6633 - val_mean_absolute_error: 0.5394\n",
      "Epoch 36/50\n",
      "1958/1958 [==============================] - 41s 21ms/step - loss: 0.6171 - acc: 0.5960 - mean_absolute_error: 0.6037 - val_loss: 0.4981 - val_acc: 0.6673 - val_mean_absolute_error: 0.5347\n",
      "Epoch 37/50\n",
      "1958/1958 [==============================] - 42s 21ms/step - loss: 0.6152 - acc: 0.5843 - mean_absolute_error: 0.6009 - val_loss: 0.4953 - val_acc: 0.6776 - val_mean_absolute_error: 0.5307\n",
      "Epoch 38/50\n",
      "1958/1958 [==============================] - 41s 21ms/step - loss: 0.6126 - acc: 0.5986 - mean_absolute_error: 0.5971 - val_loss: 0.4928 - val_acc: 0.6980 - val_mean_absolute_error: 0.5270\n",
      "Epoch 39/50\n",
      "1958/1958 [==============================] - 40s 20ms/step - loss: 0.6102 - acc: 0.6154 - mean_absolute_error: 0.5945 - val_loss: 0.4910 - val_acc: 0.7122 - val_mean_absolute_error: 0.5243\n",
      "Epoch 40/50\n",
      "1958/1958 [==============================] - 38s 19ms/step - loss: 0.6095 - acc: 0.6129 - mean_absolute_error: 0.5927 - val_loss: 0.4892 - val_acc: 0.7286 - val_mean_absolute_error: 0.5216\n",
      "Epoch 41/50\n",
      "1958/1958 [==============================] - 40s 21ms/step - loss: 0.6086 - acc: 0.6159 - mean_absolute_error: 0.5916 - val_loss: 0.4881 - val_acc: 0.7531 - val_mean_absolute_error: 0.5198\n",
      "Epoch 42/50\n",
      "1958/1958 [==============================] - 35s 18ms/step - loss: 0.6068 - acc: 0.6170 - mean_absolute_error: 0.5890 - val_loss: 0.4866 - val_acc: 0.7653 - val_mean_absolute_error: 0.5174\n",
      "Epoch 43/50\n",
      "1958/1958 [==============================] - 37s 19ms/step - loss: 0.6067 - acc: 0.6251 - mean_absolute_error: 0.5893 - val_loss: 0.4857 - val_acc: 0.7755 - val_mean_absolute_error: 0.5161\n",
      "Epoch 44/50\n",
      "1958/1958 [==============================] - 34s 17ms/step - loss: 0.6061 - acc: 0.6011 - mean_absolute_error: 0.5877 - val_loss: 0.4849 - val_acc: 0.7918 - val_mean_absolute_error: 0.5149\n",
      "Epoch 45/50\n",
      "1958/1958 [==============================] - 42s 21ms/step - loss: 0.6044 - acc: 0.6129 - mean_absolute_error: 0.5862 - val_loss: 0.4843 - val_acc: 0.7939 - val_mean_absolute_error: 0.5138\n",
      "Epoch 46/50\n",
      "1958/1958 [==============================] - 35s 18ms/step - loss: 0.6044 - acc: 0.6348 - mean_absolute_error: 0.5853 - val_loss: 0.4836 - val_acc: 0.7980 - val_mean_absolute_error: 0.5127\n",
      "Epoch 47/50\n",
      "1958/1958 [==============================] - 39s 20ms/step - loss: 0.6047 - acc: 0.6328 - mean_absolute_error: 0.5859 - val_loss: 0.4832 - val_acc: 0.8041 - val_mean_absolute_error: 0.5120\n",
      "Epoch 48/50\n",
      "1958/1958 [==============================] - 39s 20ms/step - loss: 0.6036 - acc: 0.6113 - mean_absolute_error: 0.5844 - val_loss: 0.4822 - val_acc: 0.8143 - val_mean_absolute_error: 0.5104\n",
      "Epoch 49/50\n",
      "1958/1958 [==============================] - 35s 18ms/step - loss: 0.6026 - acc: 0.6399 - mean_absolute_error: 0.5834 - val_loss: 0.4820 - val_acc: 0.8163 - val_mean_absolute_error: 0.5100\n",
      "Epoch 50/50\n",
      "1958/1958 [==============================] - 37s 19ms/step - loss: 0.6024 - acc: 0.6450 - mean_absolute_error: 0.5821 - val_loss: 0.4815 - val_acc: 0.8224 - val_mean_absolute_error: 0.5092\n"
     ]
    }
   ],
   "source": [
    "history = model.fit(X_train, Y_train, \n",
    "                 validation_split=0.2, shuffle=True, \n",
    "                 epochs=50, batch_size=30)"
   ]
  },
  {
   "cell_type": "code",
   "execution_count": 119,
   "metadata": {},
   "outputs": [
    {
     "data": {
      "image/png": "[encoded data removed]",
      "text/plain": [
       "<Figure size 432x288 with 1 Axes>"
      ]
     },
     "metadata": {},
     "output_type": "display_data"
    },
    {
     "data": {
      "image/png": "[encoded data removed]",
      "text/plain": [
       "<Figure size 432x288 with 1 Axes>"
      ]
     },
     "metadata": {},
     "output_type": "display_data"
    }
   ],
   "source": [
    "def visualize(history):\n",
    "  plt.plot(history.history['mean_absolute_error'])\n",
    "  plt.plot(history.history['val_mean_absolute_error'])\n",
    "  plt.title('model mean absolute error')\n",
    "  plt.ylabel('mae')\n",
    "  plt.xlabel('epoch')\n",
    "  plt.legend(['train', 'test'], loc='upper left')\n",
    "  plt.show()\n",
    "  # summarize history for loss\n",
    "  plt.plot(history.history['loss'])\n",
    "  plt.plot(history.history['val_loss'])\n",
    "  plt.title('model loss')\n",
    "  plt.ylabel('loss')\n",
    "  plt.xlabel('epoch')\n",
    "  plt.legend(['train', 'test'], loc='upper left')\n",
    "  plt.show()\n",
    "visualize(history)\n"
   ]
  },
  {
   "cell_type": "code",
   "execution_count": 122,
   "metadata": {},
   "outputs": [
    {
     "name": "stdout",
     "output_type": "stream",
     "text": [
      "611/611 [==============================] - 3s 6ms/step\n",
      "Mean squared error is  0.9722265600182616\n",
      "Mean absolute error is  0.176759410801964\n"
     ]
    }
   ],
   "source": [
    "result = model.evaluate(X_test, Y_test)\n",
    "print(\"Mean squared error is \",result[0])\n",
    "print(\"Mean absolute error is \",result[1])"
   ]
  },
  {
   "cell_type": "code",
   "execution_count": 97,
   "metadata": {},
   "outputs": [
    {
     "data": {
      "text/plain": [
       "(50, 1)"
      ]
     },
     "execution_count": 97,
     "metadata": {},
     "output_type": "execute_result"
    }
   ],
   "source": [
    "test = X_test[0] # test = np.array([50 inputs])\n",
    "# test = (test-mean)/std\n",
    "# test.reshape(1,50,1)\n",
    "\n",
    "test.shape"
   ]
  },
  {
   "cell_type": "code",
   "execution_count": 118,
   "metadata": {},
   "outputs": [
    {
     "name": "stdout",
     "output_type": "stream",
     "text": [
      "average temperature predicted for next 10 year is [9.531934 9.523295 9.523295 9.523295 9.523295 9.523295 9.714367 9.629711\n",
      " 9.523295 9.612493]\n"
     ]
    }
   ],
   "source": [
    "k = model.predict(np.array([test]))\n",
    "k = k*std+mean\n",
    "print(\"average temperature predicted for next 10 year is\",k[0])"
   ]
  },
  {
   "cell_type": "code",
   "execution_count": null,
   "metadata": {
    "collapsed": true
   },
   "outputs": [],
   "source": []
  }
 ],
 "metadata": {
  "kernelspec": {
   "display_name": "Python 3",
   "language": "python",
   "name": "python3"
  },
  "language_info": {
   "codemirror_mode": {
    "name": "ipython",
    "version": 3
   },
   "file_extension": ".py",
   "mimetype": "text/x-python",
   "name": "python",
   "nbconvert_exporter": "python",
   "pygments_lexer": "ipython3",
   "version": "3.6.3"
  }
 },
 "nbformat": 4,
 "nbformat_minor": 2
}
