{
 "cells": [
  {
   "cell_type": "code",
   "execution_count": 1,
   "metadata": {
    "collapsed": true
   },
   "outputs": [],
   "source": [
    "import pandas as pd\n",
    "import numpy as np"
   ]
  },
  {
   "cell_type": "code",
   "execution_count": 2,
   "metadata": {
    "collapsed": true
   },
   "outputs": [],
   "source": [
    "import matplotlib.pyplot as plt\n",
    "%matplotlib inline"
   ]
  },
  {
   "cell_type": "code",
   "execution_count": 3,
   "metadata": {
    "collapsed": true
   },
   "outputs": [],
   "source": [
    "df=pd.read_csv(\"./Data/GlobalLandTemperaturesByCity.csv\")\n",
    "df = df.dropna()"
   ]
  },
  {
   "cell_type": "code",
   "execution_count": 4,
   "metadata": {},
   "outputs": [
    {
     "data": {
      "text/html": [
       "<div>\n",
       "<style>\n",
       "    .dataframe thead tr:only-child th {\n",
       "        text-align: right;\n",
       "    }\n",
       "\n",
       "    .dataframe thead th {\n",
       "        text-align: left;\n",
       "    }\n",
       "\n",
       "    .dataframe tbody tr th {\n",
       "        vertical-align: top;\n",
       "    }\n",
       "</style>\n",
       "<table border=\"1\" class=\"dataframe\">\n",
       "  <thead>\n",
       "    <tr style=\"text-align: right;\">\n",
       "      <th></th>\n",
       "      <th>dt</th>\n",
       "      <th>AverageTemperature</th>\n",
       "      <th>AverageTemperatureUncertainty</th>\n",
       "      <th>City</th>\n",
       "      <th>Country</th>\n",
       "      <th>Latitude</th>\n",
       "      <th>Longitude</th>\n",
       "    </tr>\n",
       "  </thead>\n",
       "  <tbody>\n",
       "    <tr>\n",
       "      <th>0</th>\n",
       "      <td>1743-11-01</td>\n",
       "      <td>6.068</td>\n",
       "      <td>1.737</td>\n",
       "      <td>Århus</td>\n",
       "      <td>Denmark</td>\n",
       "      <td>57.05N</td>\n",
       "      <td>10.33E</td>\n",
       "    </tr>\n",
       "    <tr>\n",
       "      <th>5</th>\n",
       "      <td>1744-04-01</td>\n",
       "      <td>5.788</td>\n",
       "      <td>3.624</td>\n",
       "      <td>Århus</td>\n",
       "      <td>Denmark</td>\n",
       "      <td>57.05N</td>\n",
       "      <td>10.33E</td>\n",
       "    </tr>\n",
       "    <tr>\n",
       "      <th>6</th>\n",
       "      <td>1744-05-01</td>\n",
       "      <td>10.644</td>\n",
       "      <td>1.283</td>\n",
       "      <td>Århus</td>\n",
       "      <td>Denmark</td>\n",
       "      <td>57.05N</td>\n",
       "      <td>10.33E</td>\n",
       "    </tr>\n",
       "    <tr>\n",
       "      <th>7</th>\n",
       "      <td>1744-06-01</td>\n",
       "      <td>14.051</td>\n",
       "      <td>1.347</td>\n",
       "      <td>Århus</td>\n",
       "      <td>Denmark</td>\n",
       "      <td>57.05N</td>\n",
       "      <td>10.33E</td>\n",
       "    </tr>\n",
       "    <tr>\n",
       "      <th>8</th>\n",
       "      <td>1744-07-01</td>\n",
       "      <td>16.082</td>\n",
       "      <td>1.396</td>\n",
       "      <td>Århus</td>\n",
       "      <td>Denmark</td>\n",
       "      <td>57.05N</td>\n",
       "      <td>10.33E</td>\n",
       "    </tr>\n",
       "  </tbody>\n",
       "</table>\n",
       "</div>"
      ],
      "text/plain": [
       "           dt  AverageTemperature  AverageTemperatureUncertainty   City  \\\n",
       "0  1743-11-01               6.068                          1.737  Århus   \n",
       "5  1744-04-01               5.788                          3.624  Århus   \n",
       "6  1744-05-01              10.644                          1.283  Århus   \n",
       "7  1744-06-01              14.051                          1.347  Århus   \n",
       "8  1744-07-01              16.082                          1.396  Århus   \n",
       "\n",
       "   Country Latitude Longitude  \n",
       "0  Denmark   57.05N    10.33E  \n",
       "5  Denmark   57.05N    10.33E  \n",
       "6  Denmark   57.05N    10.33E  \n",
       "7  Denmark   57.05N    10.33E  \n",
       "8  Denmark   57.05N    10.33E  "
      ]
     },
     "execution_count": 4,
     "metadata": {},
     "output_type": "execute_result"
    }
   ],
   "source": [
    "df.head()\n"
   ]
  },
  {
   "cell_type": "code",
   "execution_count": 5,
   "metadata": {
    "collapsed": true
   },
   "outputs": [],
   "source": [
    "df1 = df.loc[df['City'] == \"New York\"]"
   ]
  },
  {
   "cell_type": "code",
   "execution_count": 6,
   "metadata": {},
   "outputs": [
    {
     "data": {
      "text/html": [
       "<div>\n",
       "<style>\n",
       "    .dataframe thead tr:only-child th {\n",
       "        text-align: right;\n",
       "    }\n",
       "\n",
       "    .dataframe thead th {\n",
       "        text-align: left;\n",
       "    }\n",
       "\n",
       "    .dataframe tbody tr th {\n",
       "        vertical-align: top;\n",
       "    }\n",
       "</style>\n",
       "<table border=\"1\" class=\"dataframe\">\n",
       "  <thead>\n",
       "    <tr style=\"text-align: right;\">\n",
       "      <th></th>\n",
       "      <th>dt</th>\n",
       "      <th>AverageTemperature</th>\n",
       "      <th>AverageTemperatureUncertainty</th>\n",
       "      <th>City</th>\n",
       "      <th>Country</th>\n",
       "      <th>Latitude</th>\n",
       "      <th>Longitude</th>\n",
       "    </tr>\n",
       "  </thead>\n",
       "  <tbody>\n",
       "    <tr>\n",
       "      <th>5203973</th>\n",
       "      <td>1743-11-01</td>\n",
       "      <td>3.264</td>\n",
       "      <td>1.665</td>\n",
       "      <td>New York</td>\n",
       "      <td>United States</td>\n",
       "      <td>40.99N</td>\n",
       "      <td>74.56W</td>\n",
       "    </tr>\n",
       "    <tr>\n",
       "      <th>5203978</th>\n",
       "      <td>1744-04-01</td>\n",
       "      <td>9.788</td>\n",
       "      <td>2.151</td>\n",
       "      <td>New York</td>\n",
       "      <td>United States</td>\n",
       "      <td>40.99N</td>\n",
       "      <td>74.56W</td>\n",
       "    </tr>\n",
       "    <tr>\n",
       "      <th>5203979</th>\n",
       "      <td>1744-05-01</td>\n",
       "      <td>15.708</td>\n",
       "      <td>1.506</td>\n",
       "      <td>New York</td>\n",
       "      <td>United States</td>\n",
       "      <td>40.99N</td>\n",
       "      <td>74.56W</td>\n",
       "    </tr>\n",
       "    <tr>\n",
       "      <th>5203980</th>\n",
       "      <td>1744-06-01</td>\n",
       "      <td>21.210</td>\n",
       "      <td>1.455</td>\n",
       "      <td>New York</td>\n",
       "      <td>United States</td>\n",
       "      <td>40.99N</td>\n",
       "      <td>74.56W</td>\n",
       "    </tr>\n",
       "    <tr>\n",
       "      <th>5203981</th>\n",
       "      <td>1744-07-01</td>\n",
       "      <td>22.207</td>\n",
       "      <td>1.305</td>\n",
       "      <td>New York</td>\n",
       "      <td>United States</td>\n",
       "      <td>40.99N</td>\n",
       "      <td>74.56W</td>\n",
       "    </tr>\n",
       "  </tbody>\n",
       "</table>\n",
       "</div>"
      ],
      "text/plain": [
       "                 dt  AverageTemperature  AverageTemperatureUncertainty  \\\n",
       "5203973  1743-11-01               3.264                          1.665   \n",
       "5203978  1744-04-01               9.788                          2.151   \n",
       "5203979  1744-05-01              15.708                          1.506   \n",
       "5203980  1744-06-01              21.210                          1.455   \n",
       "5203981  1744-07-01              22.207                          1.305   \n",
       "\n",
       "             City        Country Latitude Longitude  \n",
       "5203973  New York  United States   40.99N    74.56W  \n",
       "5203978  New York  United States   40.99N    74.56W  \n",
       "5203979  New York  United States   40.99N    74.56W  \n",
       "5203980  New York  United States   40.99N    74.56W  \n",
       "5203981  New York  United States   40.99N    74.56W  "
      ]
     },
     "execution_count": 6,
     "metadata": {},
     "output_type": "execute_result"
    }
   ],
   "source": [
    "df1.head()"
   ]
  },
  {
   "cell_type": "code",
   "execution_count": 7,
   "metadata": {},
   "outputs": [
    {
     "data": {
      "text/plain": [
       "21833"
      ]
     },
     "execution_count": 7,
     "metadata": {},
     "output_type": "execute_result"
    }
   ],
   "source": [
    "df1.size"
   ]
  },
  {
   "cell_type": "code",
   "execution_count": 8,
   "metadata": {
    "collapsed": true
   },
   "outputs": [],
   "source": [
    "data = list(df1.iloc[:,1])"
   ]
  },
  {
   "cell_type": "code",
   "execution_count": 9,
   "metadata": {
    "collapsed": true
   },
   "outputs": [],
   "source": [
    "mean = np.mean(np.array(data))\n",
    "std = np.std(np.array(data))"
   ]
  },
  {
   "cell_type": "code",
   "execution_count": 10,
   "metadata": {
    "collapsed": true
   },
   "outputs": [],
   "source": [
    "data1 = (np.array(data) - mean)/std"
   ]
  },
  {
   "cell_type": "code",
   "execution_count": 11,
   "metadata": {
    "collapsed": true
   },
   "outputs": [],
   "source": [
    "X = []\n",
    "Y = []\n",
    "for i in range(0, len(list(data))-60):# 60 -> 70 if predicting for 20\n",
    "    X.append(data1[i:i+50])\n",
    "    Y.append(data1[i+50:i+60])# 60 -> 70 if predicting for 20"
   ]
  },
  {
   "cell_type": "code",
   "execution_count": 12,
   "metadata": {
    "collapsed": true
   },
   "outputs": [],
   "source": [
    "X_1 = np.array(X)\n",
    "Y_1 = np.array(Y)"
   ]
  },
  {
   "cell_type": "code",
   "execution_count": 13,
   "metadata": {
    "collapsed": true
   },
   "outputs": [],
   "source": [
    "X_2 = X_1.reshape(X_1.shape[0],50,1)\n",
    "Y_2 = Y_1.reshape(Y_1.shape[0], 10)# 10 -> 20 if predicting for 20"
   ]
  },
  {
   "cell_type": "code",
   "execution_count": 14,
   "metadata": {},
   "outputs": [
    {
     "data": {
      "text/plain": [
       "(3059, 10)"
      ]
     },
     "execution_count": 14,
     "metadata": {},
     "output_type": "execute_result"
    }
   ],
   "source": [
    "Y_2.shape"
   ]
  },
  {
   "cell_type": "code",
   "execution_count": 15,
   "metadata": {
    "collapsed": true
   },
   "outputs": [],
   "source": [
    "n = int(0.3*len(X))\n",
    "X_train = X_2[:-n]\n",
    "Y_train = Y_2[:-n]\n",
    "X_test = X_2[-n:]\n",
    "Y_test = Y_2[-n:]"
   ]
  },
  {
   "cell_type": "code",
   "execution_count": 16,
   "metadata": {},
   "outputs": [
    {
     "name": "stdout",
     "output_type": "stream",
     "text": [
      "(2142, 50, 1) (2142, 10) (917, 50, 1) (917, 10)\n"
     ]
    }
   ],
   "source": [
    "print(X_train.shape, Y_train.shape, X_test.shape, Y_test.shape)"
   ]
  },
  {
   "cell_type": "code",
   "execution_count": 17,
   "metadata": {},
   "outputs": [
    {
     "name": "stderr",
     "output_type": "stream",
     "text": [
      "/Users/adityadev/anaconda3/lib/python3.6/site-packages/h5py/__init__.py:34: FutureWarning: Conversion of the second argument of issubdtype from `float` to `np.floating` is deprecated. In future, it will be treated as `np.float64 == np.dtype(float).type`.\n",
      "  from ._conv import register_converters as _register_converters\n",
      "Using TensorFlow backend.\n"
     ]
    }
   ],
   "source": [
    "from keras.models import Sequential\n",
    "from keras.layers import Dense\n",
    "from keras.layers import Dropout\n",
    "from keras.layers import LSTM\n",
    "from keras.utils import np_utils"
   ]
  },
  {
   "cell_type": "code",
   "execution_count": 18,
   "metadata": {
    "collapsed": true
   },
   "outputs": [],
   "source": [
    "model = Sequential()\n",
    "model.add(LSTM(300, input_shape=(50,1), return_sequences=True))\n",
    "model.add(Dropout(0.2))\n",
    "model.add(LSTM(300))\n",
    "model.add(Dropout(0.2))\n",
    "model.add(Dense(10, activation='relu'))# 10 -> 20 if predicting for 20\n",
    "\n",
    "model.compile(loss='mse', optimizer='sgd', metrics=['accuracy', 'mae'])"
   ]
  },
  {
   "cell_type": "code",
   "execution_count": 19,
   "metadata": {},
   "outputs": [
    {
     "name": "stdout",
     "output_type": "stream",
     "text": [
      "Train on 1713 samples, validate on 429 samples\n",
      "Epoch 1/50\n",
      "1713/1713 [==============================] - 38s 22ms/step - loss: 1.0084 - acc: 0.1851 - mean_absolute_error: 0.8905 - val_loss: 0.9805 - val_acc: 0.1678 - val_mean_absolute_error: 0.8761\n",
      "Epoch 2/50\n",
      "1713/1713 [==============================] - 36s 21ms/step - loss: 1.0020 - acc: 0.1798 - mean_absolute_error: 0.8876 - val_loss: 0.9718 - val_acc: 0.1678 - val_mean_absolute_error: 0.8721\n",
      "Epoch 3/50\n",
      "1713/1713 [==============================] - 36s 21ms/step - loss: 0.9936 - acc: 0.1740 - mean_absolute_error: 0.8838 - val_loss: 0.9631 - val_acc: 0.1678 - val_mean_absolute_error: 0.8679\n",
      "Epoch 4/50\n",
      "1713/1713 [==============================] - 37s 21ms/step - loss: 0.9839 - acc: 0.1705 - mean_absolute_error: 0.8795 - val_loss: 0.9506 - val_acc: 0.1678 - val_mean_absolute_error: 0.8620\n",
      "Epoch 5/50\n",
      "1713/1713 [==============================] - 32s 19ms/step - loss: 0.9731 - acc: 0.1769 - mean_absolute_error: 0.8745 - val_loss: 0.9385 - val_acc: 0.1678 - val_mean_absolute_error: 0.8561\n",
      "Epoch 6/50\n",
      "1713/1713 [==============================] - 30s 17ms/step - loss: 0.9615 - acc: 0.1728 - mean_absolute_error: 0.8691 - val_loss: 0.9253 - val_acc: 0.1678 - val_mean_absolute_error: 0.8495\n",
      "Epoch 7/50\n",
      "1713/1713 [==============================] - 31s 18ms/step - loss: 0.9496 - acc: 0.1769 - mean_absolute_error: 0.8633 - val_loss: 0.9118 - val_acc: 0.1702 - val_mean_absolute_error: 0.8426\n",
      "Epoch 8/50\n",
      "1713/1713 [==============================] - 31s 18ms/step - loss: 0.9363 - acc: 0.1909 - mean_absolute_error: 0.8568 - val_loss: 0.8977 - val_acc: 0.1725 - val_mean_absolute_error: 0.8352\n",
      "Epoch 9/50\n",
      "1713/1713 [==============================] - 31s 18ms/step - loss: 0.9231 - acc: 0.1950 - mean_absolute_error: 0.8501 - val_loss: 0.8825 - val_acc: 0.2238 - val_mean_absolute_error: 0.8270\n",
      "Epoch 10/50\n",
      "1713/1713 [==============================] - 29s 17ms/step - loss: 0.9082 - acc: 0.1880 - mean_absolute_error: 0.8422 - val_loss: 0.8655 - val_acc: 0.2284 - val_mean_absolute_error: 0.8176\n",
      "Epoch 11/50\n",
      "1713/1713 [==============================] - 30s 18ms/step - loss: 0.8928 - acc: 0.2090 - mean_absolute_error: 0.8337 - val_loss: 0.8483 - val_acc: 0.2028 - val_mean_absolute_error: 0.8078\n",
      "Epoch 12/50\n",
      "1713/1713 [==============================] - 31s 18ms/step - loss: 0.8766 - acc: 0.2271 - mean_absolute_error: 0.8245 - val_loss: 0.8298 - val_acc: 0.2121 - val_mean_absolute_error: 0.7968\n",
      "Epoch 13/50\n",
      "1713/1713 [==============================] - 31s 18ms/step - loss: 0.8597 - acc: 0.2277 - mean_absolute_error: 0.8143 - val_loss: 0.8117 - val_acc: 0.2424 - val_mean_absolute_error: 0.7856\n",
      "Epoch 14/50\n",
      "1713/1713 [==============================] - 31s 18ms/step - loss: 0.8423 - acc: 0.2405 - mean_absolute_error: 0.8036 - val_loss: 0.7926 - val_acc: 0.2354 - val_mean_absolute_error: 0.7730\n",
      "Epoch 15/50\n",
      "1713/1713 [==============================] - 32s 19ms/step - loss: 0.8246 - acc: 0.2499 - mean_absolute_error: 0.7918 - val_loss: 0.7729 - val_acc: 0.2657 - val_mean_absolute_error: 0.7598\n",
      "Epoch 16/50\n",
      "1713/1713 [==============================] - 31s 18ms/step - loss: 0.8073 - acc: 0.2855 - mean_absolute_error: 0.7798 - val_loss: 0.7535 - val_acc: 0.2774 - val_mean_absolute_error: 0.7459\n",
      "Epoch 17/50\n",
      "1713/1713 [==============================] - 30s 18ms/step - loss: 0.7902 - acc: 0.3047 - mean_absolute_error: 0.7672 - val_loss: 0.7358 - val_acc: 0.2914 - val_mean_absolute_error: 0.7325\n",
      "Epoch 18/50\n",
      "1713/1713 [==============================] - 31s 18ms/step - loss: 0.7737 - acc: 0.3298 - mean_absolute_error: 0.7545 - val_loss: 0.7189 - val_acc: 0.3147 - val_mean_absolute_error: 0.7187\n",
      "Epoch 19/50\n",
      "1713/1713 [==============================] - 30s 18ms/step - loss: 0.7577 - acc: 0.3526 - mean_absolute_error: 0.7414 - val_loss: 0.7019 - val_acc: 0.3403 - val_mean_absolute_error: 0.7044\n",
      "Epoch 20/50\n",
      "1713/1713 [==============================] - 31s 18ms/step - loss: 0.7432 - acc: 0.3865 - mean_absolute_error: 0.7291 - val_loss: 0.6864 - val_acc: 0.3800 - val_mean_absolute_error: 0.6905\n",
      "Epoch 21/50\n",
      "1713/1713 [==============================] - 31s 18ms/step - loss: 0.7305 - acc: 0.4326 - mean_absolute_error: 0.7174 - val_loss: 0.6725 - val_acc: 0.3963 - val_mean_absolute_error: 0.6777\n",
      "Epoch 22/50\n",
      "1713/1713 [==============================] - 30s 18ms/step - loss: 0.7181 - acc: 0.4437 - mean_absolute_error: 0.7059 - val_loss: 0.6596 - val_acc: 0.4196 - val_mean_absolute_error: 0.6649\n",
      "Epoch 23/50\n",
      "1713/1713 [==============================] - 30s 18ms/step - loss: 0.7077 - acc: 0.4717 - mean_absolute_error: 0.6954 - val_loss: 0.6475 - val_acc: 0.4545 - val_mean_absolute_error: 0.6527\n",
      "Epoch 24/50\n",
      "1713/1713 [==============================] - 31s 18ms/step - loss: 0.6968 - acc: 0.4945 - mean_absolute_error: 0.6840 - val_loss: 0.6379 - val_acc: 0.4848 - val_mean_absolute_error: 0.6418\n",
      "Epoch 25/50\n",
      "1713/1713 [==============================] - 33s 19ms/step - loss: 0.6889 - acc: 0.5236 - mean_absolute_error: 0.6747 - val_loss: 0.6294 - val_acc: 0.5012 - val_mean_absolute_error: 0.6319\n",
      "Epoch 26/50\n",
      "1713/1713 [==============================] - 30s 18ms/step - loss: 0.6806 - acc: 0.5359 - mean_absolute_error: 0.6655 - val_loss: 0.6222 - val_acc: 0.5221 - val_mean_absolute_error: 0.6231\n",
      "Epoch 27/50\n",
      "1713/1713 [==============================] - 32s 19ms/step - loss: 0.6751 - acc: 0.5511 - mean_absolute_error: 0.6587 - val_loss: 0.6155 - val_acc: 0.5594 - val_mean_absolute_error: 0.6147\n",
      "Epoch 28/50\n",
      "1713/1713 [==============================] - 31s 18ms/step - loss: 0.6699 - acc: 0.5826 - mean_absolute_error: 0.6516 - val_loss: 0.6103 - val_acc: 0.5874 - val_mean_absolute_error: 0.6079\n",
      "Epoch 29/50\n",
      "1713/1713 [==============================] - 31s 18ms/step - loss: 0.6654 - acc: 0.6065 - mean_absolute_error: 0.6458 - val_loss: 0.6056 - val_acc: 0.6107 - val_mean_absolute_error: 0.6018\n",
      "Epoch 30/50\n",
      "1713/1713 [==============================] - 31s 18ms/step - loss: 0.6621 - acc: 0.5966 - mean_absolute_error: 0.6411 - val_loss: 0.6019 - val_acc: 0.6247 - val_mean_absolute_error: 0.5968\n",
      "Epoch 31/50\n",
      "1713/1713 [==============================] - 32s 18ms/step - loss: 0.6598 - acc: 0.6182 - mean_absolute_error: 0.6370 - val_loss: 0.5987 - val_acc: 0.6503 - val_mean_absolute_error: 0.5923\n",
      "Epoch 32/50\n",
      "1713/1713 [==============================] - 32s 19ms/step - loss: 0.6570 - acc: 0.6258 - mean_absolute_error: 0.6327 - val_loss: 0.5960 - val_acc: 0.6667 - val_mean_absolute_error: 0.5886\n",
      "Epoch 33/50\n",
      "1713/1713 [==============================] - 31s 18ms/step - loss: 0.6550 - acc: 0.6433 - mean_absolute_error: 0.6292 - val_loss: 0.5939 - val_acc: 0.6830 - val_mean_absolute_error: 0.5855\n",
      "Epoch 34/50\n",
      "1713/1713 [==============================] - 31s 18ms/step - loss: 0.6533 - acc: 0.6363 - mean_absolute_error: 0.6264 - val_loss: 0.5920 - val_acc: 0.6946 - val_mean_absolute_error: 0.5826\n",
      "Epoch 35/50\n",
      "1713/1713 [==============================] - 31s 18ms/step - loss: 0.6516 - acc: 0.6556 - mean_absolute_error: 0.6239 - val_loss: 0.5906 - val_acc: 0.7086 - val_mean_absolute_error: 0.5805\n",
      "Epoch 36/50\n",
      "1713/1713 [==============================] - 31s 18ms/step - loss: 0.6499 - acc: 0.6591 - mean_absolute_error: 0.6211 - val_loss: 0.5894 - val_acc: 0.7016 - val_mean_absolute_error: 0.5786\n",
      "Epoch 37/50\n",
      "1713/1713 [==============================] - 33s 19ms/step - loss: 0.6487 - acc: 0.6567 - mean_absolute_error: 0.6196 - val_loss: 0.5882 - val_acc: 0.7063 - val_mean_absolute_error: 0.5768\n",
      "Epoch 38/50\n",
      "1713/1713 [==============================] - 32s 19ms/step - loss: 0.6481 - acc: 0.6579 - mean_absolute_error: 0.6176 - val_loss: 0.5869 - val_acc: 0.7156 - val_mean_absolute_error: 0.5749\n",
      "Epoch 39/50\n",
      "1713/1713 [==============================] - 34s 20ms/step - loss: 0.6471 - acc: 0.6567 - mean_absolute_error: 0.6165 - val_loss: 0.5858 - val_acc: 0.7203 - val_mean_absolute_error: 0.5732\n",
      "Epoch 40/50\n",
      "1713/1713 [==============================] - 32s 19ms/step - loss: 0.6460 - acc: 0.6731 - mean_absolute_error: 0.6150 - val_loss: 0.5851 - val_acc: 0.7226 - val_mean_absolute_error: 0.5720\n",
      "Epoch 41/50\n"
     ]
    },
    {
     "name": "stdout",
     "output_type": "stream",
     "text": [
      "1713/1713 [==============================] - 32s 18ms/step - loss: 0.6450 - acc: 0.6719 - mean_absolute_error: 0.6134 - val_loss: 0.5841 - val_acc: 0.7273 - val_mean_absolute_error: 0.5705\n",
      "Epoch 42/50\n",
      "1713/1713 [==============================] - 33s 19ms/step - loss: 0.6443 - acc: 0.6702 - mean_absolute_error: 0.6119 - val_loss: 0.5835 - val_acc: 0.7296 - val_mean_absolute_error: 0.5696\n",
      "Epoch 43/50\n",
      "1713/1713 [==============================] - 37s 22ms/step - loss: 0.6437 - acc: 0.6725 - mean_absolute_error: 0.6112 - val_loss: 0.5830 - val_acc: 0.7319 - val_mean_absolute_error: 0.5687\n",
      "Epoch 44/50\n",
      "1713/1713 [==============================] - 34s 20ms/step - loss: 0.6429 - acc: 0.6708 - mean_absolute_error: 0.6103 - val_loss: 0.5824 - val_acc: 0.7296 - val_mean_absolute_error: 0.5676\n",
      "Epoch 45/50\n",
      "1713/1713 [==============================] - 33s 19ms/step - loss: 0.6424 - acc: 0.6678 - mean_absolute_error: 0.6091 - val_loss: 0.5819 - val_acc: 0.7366 - val_mean_absolute_error: 0.5669\n",
      "Epoch 46/50\n",
      "1713/1713 [==============================] - 32s 19ms/step - loss: 0.6421 - acc: 0.6813 - mean_absolute_error: 0.6082 - val_loss: 0.5815 - val_acc: 0.7413 - val_mean_absolute_error: 0.5661\n",
      "Epoch 47/50\n",
      "1713/1713 [==============================] - 39s 23ms/step - loss: 0.6416 - acc: 0.6772 - mean_absolute_error: 0.6076 - val_loss: 0.5809 - val_acc: 0.7459 - val_mean_absolute_error: 0.5652\n",
      "Epoch 48/50\n",
      "1713/1713 [==============================] - 53s 31ms/step - loss: 0.6415 - acc: 0.6824 - mean_absolute_error: 0.6074 - val_loss: 0.5806 - val_acc: 0.7506 - val_mean_absolute_error: 0.5648\n",
      "Epoch 49/50\n",
      "1713/1713 [==============================] - 52s 30ms/step - loss: 0.6408 - acc: 0.6871 - mean_absolute_error: 0.6063 - val_loss: 0.5802 - val_acc: 0.7506 - val_mean_absolute_error: 0.5641\n",
      "Epoch 50/50\n",
      "1713/1713 [==============================] - 51s 30ms/step - loss: 0.6404 - acc: 0.6900 - mean_absolute_error: 0.6059 - val_loss: 0.5800 - val_acc: 0.7576 - val_mean_absolute_error: 0.5637\n"
     ]
    }
   ],
   "source": [
    "history = model.fit(X_train, Y_train, \n",
    "                 validation_split=0.2, shuffle=True, \n",
    "                 epochs=50, batch_size=30)"
   ]
  },
  {
   "cell_type": "code",
   "execution_count": 20,
   "metadata": {},
   "outputs": [
    {
     "data": {
      "image/png": "[encoded data removed]",
      "text/plain": [
       "<Figure size 432x288 with 1 Axes>"
      ]
     },
     "metadata": {},
     "output_type": "display_data"
    },
    {
     "data": {
      "image/png": "[encoded data removed]",
      "text/plain": [
       "<Figure size 432x288 with 1 Axes>"
      ]
     },
     "metadata": {},
     "output_type": "display_data"
    }
   ],
   "source": [
    "def visualize(history):\n",
    "  plt.plot(history.history['mean_absolute_error'])\n",
    "  plt.plot(history.history['val_mean_absolute_error'])\n",
    "  plt.title('model mean absolute error')\n",
    "  plt.ylabel('mae')\n",
    "  plt.xlabel('epoch')\n",
    "  plt.legend(['train', 'test'], loc='upper left')\n",
    "  plt.show()\n",
    "  # summarize history for loss\n",
    "  plt.plot(history.history['loss'])\n",
    "  plt.plot(history.history['val_loss'])\n",
    "  plt.title('model loss')\n",
    "  plt.ylabel('loss')\n",
    "  plt.xlabel('epoch')\n",
    "  plt.legend(['train', 'test'], loc='upper left')\n",
    "  plt.show()\n",
    "visualize(history)\n"
   ]
  },
  {
   "cell_type": "code",
   "execution_count": 21,
   "metadata": {},
   "outputs": [
    {
     "name": "stdout",
     "output_type": "stream",
     "text": [
      "917/917 [==============================] - 4s 5ms/step\n",
      "Mean squared error is  0.5251186146535947\n",
      "Mean absolute error is  0.6837513637906723\n"
     ]
    }
   ],
   "source": [
    "result = model.evaluate(X_test, Y_test)\n",
    "print(\"Mean squared error is \",result[0])\n",
    "print(\"Mean absolute error is \",result[1])"
   ]
  },
  {
   "cell_type": "code",
   "execution_count": 22,
   "metadata": {},
   "outputs": [
    {
     "data": {
      "text/plain": [
       "(50, 1)"
      ]
     },
     "execution_count": 22,
     "metadata": {},
     "output_type": "execute_result"
    }
   ],
   "source": [
    "test = X_test[0] \n",
    "\n",
    "test.shape"
   ]
  },
  {
   "cell_type": "code",
   "execution_count": 24,
   "metadata": {},
   "outputs": [
    {
     "name": "stdout",
     "output_type": "stream",
     "text": [
      "average temperature predicted for next 10 year is [20.575668 19.678143 16.05379  10.839565  9.523295  9.523295  9.523295\n",
      "  9.523295  9.523295  9.794184]\n"
     ]
    }
   ],
   "source": [
    "k = model.predict(np.array([test]))\n",
    "k = k*std+mean\n",
    "print(\"average temperature predicted for next 10 year is\",k[0])"
   ]
  },
  {
   "cell_type": "code",
   "execution_count": null,
   "metadata": {
    "collapsed": true
   },
   "outputs": [],
   "source": []
  }
 ],
 "metadata": {
  "kernelspec": {
   "display_name": "Python 3",
   "language": "python",
   "name": "python3"
  },
  "language_info": {
   "codemirror_mode": {
    "name": "ipython",
    "version": 3
   },
   "file_extension": ".py",
   "mimetype": "text/x-python",
   "name": "python",
   "nbconvert_exporter": "python",
   "pygments_lexer": "ipython3",
   "version": "3.6.3"
  }
 },
 "nbformat": 4,
 "nbformat_minor": 2
}
