{
 "cells": [
  {
   "cell_type": "code",
   "execution_count": 1,
   "metadata": {
    "collapsed": true
   },
   "outputs": [],
   "source": [
    "import pandas as pd\n",
    "import numpy as np"
   ]
  },
  {
   "cell_type": "code",
   "execution_count": 2,
   "metadata": {
    "collapsed": true
   },
   "outputs": [],
   "source": [
    "import matplotlib.pyplot as plt\n",
    "%matplotlib inline"
   ]
  },
  {
   "cell_type": "code",
   "execution_count": 3,
   "metadata": {
    "collapsed": true
   },
   "outputs": [],
   "source": [
    "df=pd.read_csv(\"./Data/GlobalLandTemperaturesByCity.csv\")\n",
    "df = df.dropna()"
   ]
  },
  {
   "cell_type": "code",
   "execution_count": 4,
   "metadata": {},
   "outputs": [
    {
     "data": {
      "text/html": [
       "<div>\n",
       "<style>\n",
       "    .dataframe thead tr:only-child th {\n",
       "        text-align: right;\n",
       "    }\n",
       "\n",
       "    .dataframe thead th {\n",
       "        text-align: left;\n",
       "    }\n",
       "\n",
       "    .dataframe tbody tr th {\n",
       "        vertical-align: top;\n",
       "    }\n",
       "</style>\n",
       "<table border=\"1\" class=\"dataframe\">\n",
       "  <thead>\n",
       "    <tr style=\"text-align: right;\">\n",
       "      <th></th>\n",
       "      <th>dt</th>\n",
       "      <th>AverageTemperature</th>\n",
       "      <th>AverageTemperatureUncertainty</th>\n",
       "      <th>City</th>\n",
       "      <th>Country</th>\n",
       "      <th>Latitude</th>\n",
       "      <th>Longitude</th>\n",
       "    </tr>\n",
       "  </thead>\n",
       "  <tbody>\n",
       "    <tr>\n",
       "      <th>0</th>\n",
       "      <td>1743-11-01</td>\n",
       "      <td>6.068</td>\n",
       "      <td>1.737</td>\n",
       "      <td>Århus</td>\n",
       "      <td>Denmark</td>\n",
       "      <td>57.05N</td>\n",
       "      <td>10.33E</td>\n",
       "    </tr>\n",
       "    <tr>\n",
       "      <th>5</th>\n",
       "      <td>1744-04-01</td>\n",
       "      <td>5.788</td>\n",
       "      <td>3.624</td>\n",
       "      <td>Århus</td>\n",
       "      <td>Denmark</td>\n",
       "      <td>57.05N</td>\n",
       "      <td>10.33E</td>\n",
       "    </tr>\n",
       "    <tr>\n",
       "      <th>6</th>\n",
       "      <td>1744-05-01</td>\n",
       "      <td>10.644</td>\n",
       "      <td>1.283</td>\n",
       "      <td>Århus</td>\n",
       "      <td>Denmark</td>\n",
       "      <td>57.05N</td>\n",
       "      <td>10.33E</td>\n",
       "    </tr>\n",
       "    <tr>\n",
       "      <th>7</th>\n",
       "      <td>1744-06-01</td>\n",
       "      <td>14.051</td>\n",
       "      <td>1.347</td>\n",
       "      <td>Århus</td>\n",
       "      <td>Denmark</td>\n",
       "      <td>57.05N</td>\n",
       "      <td>10.33E</td>\n",
       "    </tr>\n",
       "    <tr>\n",
       "      <th>8</th>\n",
       "      <td>1744-07-01</td>\n",
       "      <td>16.082</td>\n",
       "      <td>1.396</td>\n",
       "      <td>Århus</td>\n",
       "      <td>Denmark</td>\n",
       "      <td>57.05N</td>\n",
       "      <td>10.33E</td>\n",
       "    </tr>\n",
       "  </tbody>\n",
       "</table>\n",
       "</div>"
      ],
      "text/plain": [
       "           dt  AverageTemperature  AverageTemperatureUncertainty   City  \\\n",
       "0  1743-11-01               6.068                          1.737  Århus   \n",
       "5  1744-04-01               5.788                          3.624  Århus   \n",
       "6  1744-05-01              10.644                          1.283  Århus   \n",
       "7  1744-06-01              14.051                          1.347  Århus   \n",
       "8  1744-07-01              16.082                          1.396  Århus   \n",
       "\n",
       "   Country Latitude Longitude  \n",
       "0  Denmark   57.05N    10.33E  \n",
       "5  Denmark   57.05N    10.33E  \n",
       "6  Denmark   57.05N    10.33E  \n",
       "7  Denmark   57.05N    10.33E  \n",
       "8  Denmark   57.05N    10.33E  "
      ]
     },
     "execution_count": 4,
     "metadata": {},
     "output_type": "execute_result"
    }
   ],
   "source": [
    "df.head()\n"
   ]
  },
  {
   "cell_type": "code",
   "execution_count": 5,
   "metadata": {
    "collapsed": true
   },
   "outputs": [],
   "source": [
    "df1 = df.loc[df['City'] == \"New York\"]"
   ]
  },
  {
   "cell_type": "code",
   "execution_count": 6,
   "metadata": {},
   "outputs": [
    {
     "data": {
      "text/html": [
       "<div>\n",
       "<style>\n",
       "    .dataframe thead tr:only-child th {\n",
       "        text-align: right;\n",
       "    }\n",
       "\n",
       "    .dataframe thead th {\n",
       "        text-align: left;\n",
       "    }\n",
       "\n",
       "    .dataframe tbody tr th {\n",
       "        vertical-align: top;\n",
       "    }\n",
       "</style>\n",
       "<table border=\"1\" class=\"dataframe\">\n",
       "  <thead>\n",
       "    <tr style=\"text-align: right;\">\n",
       "      <th></th>\n",
       "      <th>dt</th>\n",
       "      <th>AverageTemperature</th>\n",
       "      <th>AverageTemperatureUncertainty</th>\n",
       "      <th>City</th>\n",
       "      <th>Country</th>\n",
       "      <th>Latitude</th>\n",
       "      <th>Longitude</th>\n",
       "    </tr>\n",
       "  </thead>\n",
       "  <tbody>\n",
       "    <tr>\n",
       "      <th>5203973</th>\n",
       "      <td>1743-11-01</td>\n",
       "      <td>3.264</td>\n",
       "      <td>1.665</td>\n",
       "      <td>New York</td>\n",
       "      <td>United States</td>\n",
       "      <td>40.99N</td>\n",
       "      <td>74.56W</td>\n",
       "    </tr>\n",
       "    <tr>\n",
       "      <th>5203978</th>\n",
       "      <td>1744-04-01</td>\n",
       "      <td>9.788</td>\n",
       "      <td>2.151</td>\n",
       "      <td>New York</td>\n",
       "      <td>United States</td>\n",
       "      <td>40.99N</td>\n",
       "      <td>74.56W</td>\n",
       "    </tr>\n",
       "    <tr>\n",
       "      <th>5203979</th>\n",
       "      <td>1744-05-01</td>\n",
       "      <td>15.708</td>\n",
       "      <td>1.506</td>\n",
       "      <td>New York</td>\n",
       "      <td>United States</td>\n",
       "      <td>40.99N</td>\n",
       "      <td>74.56W</td>\n",
       "    </tr>\n",
       "    <tr>\n",
       "      <th>5203980</th>\n",
       "      <td>1744-06-01</td>\n",
       "      <td>21.210</td>\n",
       "      <td>1.455</td>\n",
       "      <td>New York</td>\n",
       "      <td>United States</td>\n",
       "      <td>40.99N</td>\n",
       "      <td>74.56W</td>\n",
       "    </tr>\n",
       "    <tr>\n",
       "      <th>5203981</th>\n",
       "      <td>1744-07-01</td>\n",
       "      <td>22.207</td>\n",
       "      <td>1.305</td>\n",
       "      <td>New York</td>\n",
       "      <td>United States</td>\n",
       "      <td>40.99N</td>\n",
       "      <td>74.56W</td>\n",
       "    </tr>\n",
       "  </tbody>\n",
       "</table>\n",
       "</div>"
      ],
      "text/plain": [
       "                 dt  AverageTemperature  AverageTemperatureUncertainty  \\\n",
       "5203973  1743-11-01               3.264                          1.665   \n",
       "5203978  1744-04-01               9.788                          2.151   \n",
       "5203979  1744-05-01              15.708                          1.506   \n",
       "5203980  1744-06-01              21.210                          1.455   \n",
       "5203981  1744-07-01              22.207                          1.305   \n",
       "\n",
       "             City        Country Latitude Longitude  \n",
       "5203973  New York  United States   40.99N    74.56W  \n",
       "5203978  New York  United States   40.99N    74.56W  \n",
       "5203979  New York  United States   40.99N    74.56W  \n",
       "5203980  New York  United States   40.99N    74.56W  \n",
       "5203981  New York  United States   40.99N    74.56W  "
      ]
     },
     "execution_count": 6,
     "metadata": {},
     "output_type": "execute_result"
    }
   ],
   "source": [
    "df1.head()"
   ]
  },
  {
   "cell_type": "code",
   "execution_count": 7,
   "metadata": {},
   "outputs": [
    {
     "data": {
      "text/plain": [
       "21833"
      ]
     },
     "execution_count": 7,
     "metadata": {},
     "output_type": "execute_result"
    }
   ],
   "source": [
    "df1.size"
   ]
  },
  {
   "cell_type": "code",
   "execution_count": 8,
   "metadata": {
    "collapsed": true
   },
   "outputs": [],
   "source": [
    "# choose only say china\n",
    "data = list(df1.iloc[:,1])"
   ]
  },
  {
   "cell_type": "code",
   "execution_count": 9,
   "metadata": {
    "collapsed": true
   },
   "outputs": [],
   "source": [
    "mean = np.mean(np.array(data))\n",
    "std = np.std(np.array(data))"
   ]
  },
  {
   "cell_type": "code",
   "execution_count": 10,
   "metadata": {
    "collapsed": true
   },
   "outputs": [],
   "source": [
    "data1 = (np.array(data) - mean)/std"
   ]
  },
  {
   "cell_type": "code",
   "execution_count": 11,
   "metadata": {
    "collapsed": true
   },
   "outputs": [],
   "source": [
    "X = []\n",
    "Y = []\n",
    "for i in range(0, len(list(data))-60):# 60 -> 70 if predicting for 20\n",
    "    X.append(data1[i:i+50])\n",
    "    Y.append(data1[i+50:i+60])# 60 -> 70 if predicting for 20"
   ]
  },
  {
   "cell_type": "code",
   "execution_count": 12,
   "metadata": {
    "collapsed": true
   },
   "outputs": [],
   "source": [
    "X_1 = np.array(X)\n",
    "Y_1 = np.array(Y)"
   ]
  },
  {
   "cell_type": "code",
   "execution_count": 13,
   "metadata": {
    "collapsed": true
   },
   "outputs": [],
   "source": [
    "X_2 = X_1.reshape(X_1.shape[0],50,1)\n",
    "Y_2 = Y_1.reshape(Y_1.shape[0], 10)# 10 -> 20 if predicting for 20"
   ]
  },
  {
   "cell_type": "code",
   "execution_count": 14,
   "metadata": {},
   "outputs": [
    {
     "data": {
      "text/plain": [
       "(3059, 10)"
      ]
     },
     "execution_count": 14,
     "metadata": {},
     "output_type": "execute_result"
    }
   ],
   "source": [
    "Y_2.shape"
   ]
  },
  {
   "cell_type": "code",
   "execution_count": 15,
   "metadata": {
    "collapsed": true
   },
   "outputs": [],
   "source": [
    "n = int(0.1*len(X))\n",
    "X_train = X_2[:-n]\n",
    "Y_train = Y_2[:-n]\n",
    "X_test = X_2[-n:]\n",
    "Y_test = Y_2[-n:]"
   ]
  },
  {
   "cell_type": "code",
   "execution_count": 16,
   "metadata": {},
   "outputs": [
    {
     "name": "stdout",
     "output_type": "stream",
     "text": [
      "(2754, 50, 1) (2754, 10) (305, 50, 1) (305, 10)\n"
     ]
    }
   ],
   "source": [
    "print(X_train.shape, Y_train.shape, X_test.shape, Y_test.shape)"
   ]
  },
  {
   "cell_type": "code",
   "execution_count": 17,
   "metadata": {},
   "outputs": [
    {
     "name": "stderr",
     "output_type": "stream",
     "text": [
      "/Users/adityadev/anaconda3/lib/python3.6/site-packages/h5py/__init__.py:34: FutureWarning: Conversion of the second argument of issubdtype from `float` to `np.floating` is deprecated. In future, it will be treated as `np.float64 == np.dtype(float).type`.\n",
      "  from ._conv import register_converters as _register_converters\n",
      "Using TensorFlow backend.\n"
     ]
    }
   ],
   "source": [
    "from keras.models import Sequential\n",
    "from keras.layers import Dense\n",
    "from keras.layers import Dropout\n",
    "from keras.layers import LSTM\n",
    "from keras.utils import np_utils"
   ]
  },
  {
   "cell_type": "code",
   "execution_count": 18,
   "metadata": {
    "collapsed": true
   },
   "outputs": [],
   "source": [
    "model = Sequential()\n",
    "model.add(LSTM(300, input_shape=(50,1), return_sequences=True))\n",
    "model.add(Dropout(0.2))\n",
    "model.add(LSTM(300))\n",
    "model.add(Dropout(0.2))\n",
    "model.add(Dense(10, activation='relu'))# 10 -> 20 if predicting for 20\n",
    "\n",
    "model.compile(loss='mse', optimizer='sgd', metrics=['accuracy', 'mae'])"
   ]
  },
  {
   "cell_type": "code",
   "execution_count": 24,
   "metadata": {},
   "outputs": [
    {
     "name": "stdout",
     "output_type": "stream",
     "text": [
      "Train on 2203 samples, validate on 551 samples\n",
      "Epoch 1/50\n",
      "2203/2203 [==============================] - 33s 15ms/step - loss: 0.7092 - acc: 0.5433 - mean_absolute_error: 0.6586 - val_loss: 0.6374 - val_acc: 0.5626 - val_mean_absolute_error: 0.6141\n",
      "Epoch 2/50\n",
      "2203/2203 [==============================] - 36s 16ms/step - loss: 0.7086 - acc: 0.5411 - mean_absolute_error: 0.6579 - val_loss: 0.6372 - val_acc: 0.5626 - val_mean_absolute_error: 0.6138\n",
      "Epoch 3/50\n",
      "2203/2203 [==============================] - 33s 15ms/step - loss: 0.7085 - acc: 0.5343 - mean_absolute_error: 0.6575 - val_loss: 0.6371 - val_acc: 0.5662 - val_mean_absolute_error: 0.6135\n",
      "Epoch 4/50\n",
      "2203/2203 [==============================] - 38s 17ms/step - loss: 0.7082 - acc: 0.5402 - mean_absolute_error: 0.6569 - val_loss: 0.6369 - val_acc: 0.5662 - val_mean_absolute_error: 0.6132\n",
      "Epoch 5/50\n",
      "2203/2203 [==============================] - 37s 17ms/step - loss: 0.7084 - acc: 0.5343 - mean_absolute_error: 0.6570 - val_loss: 0.6368 - val_acc: 0.5662 - val_mean_absolute_error: 0.6130\n",
      "Epoch 6/50\n",
      "2203/2203 [==============================] - 35s 16ms/step - loss: 0.7080 - acc: 0.5456 - mean_absolute_error: 0.6569 - val_loss: 0.6368 - val_acc: 0.5662 - val_mean_absolute_error: 0.6130\n",
      "Epoch 7/50\n",
      "2203/2203 [==============================] - 36s 16ms/step - loss: 0.7082 - acc: 0.5379 - mean_absolute_error: 0.6570 - val_loss: 0.6368 - val_acc: 0.5644 - val_mean_absolute_error: 0.6129\n",
      "Epoch 8/50\n",
      "2203/2203 [==============================] - 34s 15ms/step - loss: 0.7078 - acc: 0.5402 - mean_absolute_error: 0.6568 - val_loss: 0.6366 - val_acc: 0.5662 - val_mean_absolute_error: 0.6124\n",
      "Epoch 9/50\n",
      "2203/2203 [==============================] - 34s 16ms/step - loss: 0.7076 - acc: 0.5374 - mean_absolute_error: 0.6564 - val_loss: 0.6365 - val_acc: 0.5699 - val_mean_absolute_error: 0.6124\n",
      "Epoch 10/50\n",
      "2203/2203 [==============================] - 32s 15ms/step - loss: 0.7079 - acc: 0.5488 - mean_absolute_error: 0.6563 - val_loss: 0.6364 - val_acc: 0.5735 - val_mean_absolute_error: 0.6121\n",
      "Epoch 11/50\n",
      "2203/2203 [==============================] - 35s 16ms/step - loss: 0.7077 - acc: 0.5433 - mean_absolute_error: 0.6559 - val_loss: 0.6364 - val_acc: 0.5735 - val_mean_absolute_error: 0.6120\n",
      "Epoch 12/50\n",
      "2203/2203 [==============================] - 37s 17ms/step - loss: 0.7077 - acc: 0.5402 - mean_absolute_error: 0.6559 - val_loss: 0.6362 - val_acc: 0.5735 - val_mean_absolute_error: 0.6118\n",
      "Epoch 13/50\n",
      "2203/2203 [==============================] - 43s 20ms/step - loss: 0.7075 - acc: 0.5438 - mean_absolute_error: 0.6558 - val_loss: 0.6362 - val_acc: 0.5771 - val_mean_absolute_error: 0.6116\n",
      "Epoch 14/50\n",
      "2203/2203 [==============================] - 39s 18ms/step - loss: 0.7077 - acc: 0.5479 - mean_absolute_error: 0.6560 - val_loss: 0.6361 - val_acc: 0.5735 - val_mean_absolute_error: 0.6116\n",
      "Epoch 15/50\n",
      "2203/2203 [==============================] - 39s 18ms/step - loss: 0.7073 - acc: 0.5433 - mean_absolute_error: 0.6551 - val_loss: 0.6361 - val_acc: 0.5735 - val_mean_absolute_error: 0.6115\n",
      "Epoch 16/50\n",
      "2203/2203 [==============================] - 40s 18ms/step - loss: 0.7072 - acc: 0.5470 - mean_absolute_error: 0.6553 - val_loss: 0.6360 - val_acc: 0.5753 - val_mean_absolute_error: 0.6113\n",
      "Epoch 17/50\n",
      "2203/2203 [==============================] - 44s 20ms/step - loss: 0.7071 - acc: 0.5429 - mean_absolute_error: 0.6550 - val_loss: 0.6359 - val_acc: 0.5753 - val_mean_absolute_error: 0.6110\n",
      "Epoch 18/50\n",
      "2203/2203 [==============================] - 37s 17ms/step - loss: 0.7072 - acc: 0.5415 - mean_absolute_error: 0.6549 - val_loss: 0.6358 - val_acc: 0.5753 - val_mean_absolute_error: 0.6110\n",
      "Epoch 19/50\n",
      "2203/2203 [==============================] - 44s 20ms/step - loss: 0.7071 - acc: 0.5497 - mean_absolute_error: 0.6550 - val_loss: 0.6358 - val_acc: 0.5753 - val_mean_absolute_error: 0.6108\n",
      "Epoch 20/50\n",
      "2203/2203 [==============================] - 46s 21ms/step - loss: 0.7068 - acc: 0.5452 - mean_absolute_error: 0.6543 - val_loss: 0.6356 - val_acc: 0.5753 - val_mean_absolute_error: 0.6106\n",
      "Epoch 21/50\n",
      "2203/2203 [==============================] - 36s 16ms/step - loss: 0.7064 - acc: 0.5488 - mean_absolute_error: 0.6544 - val_loss: 0.6356 - val_acc: 0.5753 - val_mean_absolute_error: 0.6105\n",
      "Epoch 22/50\n",
      "2203/2203 [==============================] - 40s 18ms/step - loss: 0.7065 - acc: 0.5415 - mean_absolute_error: 0.6541 - val_loss: 0.6356 - val_acc: 0.5789 - val_mean_absolute_error: 0.6104\n",
      "Epoch 23/50\n",
      "2203/2203 [==============================] - 35s 16ms/step - loss: 0.7068 - acc: 0.5497 - mean_absolute_error: 0.6541 - val_loss: 0.6356 - val_acc: 0.5789 - val_mean_absolute_error: 0.6104\n",
      "Epoch 24/50\n",
      "2203/2203 [==============================] - 35s 16ms/step - loss: 0.7064 - acc: 0.5483 - mean_absolute_error: 0.6538 - val_loss: 0.6356 - val_acc: 0.5789 - val_mean_absolute_error: 0.6103\n",
      "Epoch 25/50\n",
      "2203/2203 [==============================] - 37s 17ms/step - loss: 0.7069 - acc: 0.5406 - mean_absolute_error: 0.6542 - val_loss: 0.6355 - val_acc: 0.5789 - val_mean_absolute_error: 0.6102\n",
      "Epoch 26/50\n",
      "2203/2203 [==============================] - 40s 18ms/step - loss: 0.7066 - acc: 0.5465 - mean_absolute_error: 0.6543 - val_loss: 0.6355 - val_acc: 0.5789 - val_mean_absolute_error: 0.6103\n",
      "Epoch 27/50\n",
      "2203/2203 [==============================] - 35s 16ms/step - loss: 0.7065 - acc: 0.5438 - mean_absolute_error: 0.6536 - val_loss: 0.6354 - val_acc: 0.5808 - val_mean_absolute_error: 0.6100\n",
      "Epoch 28/50\n",
      "2203/2203 [==============================] - 35s 16ms/step - loss: 0.7066 - acc: 0.5461 - mean_absolute_error: 0.6541 - val_loss: 0.6353 - val_acc: 0.5808 - val_mean_absolute_error: 0.6098\n",
      "Epoch 29/50\n",
      "2203/2203 [==============================] - 35s 16ms/step - loss: 0.7068 - acc: 0.5406 - mean_absolute_error: 0.6542 - val_loss: 0.6353 - val_acc: 0.5826 - val_mean_absolute_error: 0.6098\n",
      "Epoch 30/50\n",
      "2203/2203 [==============================] - 35s 16ms/step - loss: 0.7064 - acc: 0.5493 - mean_absolute_error: 0.6540 - val_loss: 0.6353 - val_acc: 0.5826 - val_mean_absolute_error: 0.6098\n",
      "Epoch 31/50\n",
      "2203/2203 [==============================] - 35s 16ms/step - loss: 0.7065 - acc: 0.5420 - mean_absolute_error: 0.6538 - val_loss: 0.6353 - val_acc: 0.5826 - val_mean_absolute_error: 0.6097\n",
      "Epoch 32/50\n",
      "2203/2203 [==============================] - 35s 16ms/step - loss: 0.7062 - acc: 0.5461 - mean_absolute_error: 0.6535 - val_loss: 0.6352 - val_acc: 0.5826 - val_mean_absolute_error: 0.6096\n",
      "Epoch 33/50\n",
      "2203/2203 [==============================] - 36s 16ms/step - loss: 0.7065 - acc: 0.5411 - mean_absolute_error: 0.6540 - val_loss: 0.6352 - val_acc: 0.5826 - val_mean_absolute_error: 0.6095\n",
      "Epoch 34/50\n",
      "2203/2203 [==============================] - 35s 16ms/step - loss: 0.7063 - acc: 0.5483 - mean_absolute_error: 0.6537 - val_loss: 0.6351 - val_acc: 0.5826 - val_mean_absolute_error: 0.6094\n",
      "Epoch 35/50\n",
      "2203/2203 [==============================] - 37s 17ms/step - loss: 0.7063 - acc: 0.5447 - mean_absolute_error: 0.6537 - val_loss: 0.6351 - val_acc: 0.5826 - val_mean_absolute_error: 0.6093\n",
      "Epoch 36/50\n",
      "2203/2203 [==============================] - 40s 18ms/step - loss: 0.7064 - acc: 0.5447 - mean_absolute_error: 0.6538 - val_loss: 0.6350 - val_acc: 0.5826 - val_mean_absolute_error: 0.6092\n",
      "Epoch 37/50\n",
      "2203/2203 [==============================] - 40s 18ms/step - loss: 0.7061 - acc: 0.5488 - mean_absolute_error: 0.6535 - val_loss: 0.6350 - val_acc: 0.5826 - val_mean_absolute_error: 0.6091\n",
      "Epoch 38/50\n",
      "2203/2203 [==============================] - 37s 17ms/step - loss: 0.7061 - acc: 0.5524 - mean_absolute_error: 0.6532 - val_loss: 0.6350 - val_acc: 0.5826 - val_mean_absolute_error: 0.6091\n",
      "Epoch 39/50\n",
      "2203/2203 [==============================] - 36s 16ms/step - loss: 0.7063 - acc: 0.5474 - mean_absolute_error: 0.6536 - val_loss: 0.6349 - val_acc: 0.5826 - val_mean_absolute_error: 0.6090\n",
      "Epoch 40/50\n",
      "2203/2203 [==============================] - 36s 17ms/step - loss: 0.7062 - acc: 0.5556 - mean_absolute_error: 0.6530 - val_loss: 0.6350 - val_acc: 0.5862 - val_mean_absolute_error: 0.6090\n",
      "Epoch 41/50\n"
     ]
    },
    {
     "name": "stdout",
     "output_type": "stream",
     "text": [
      "2203/2203 [==============================] - 36s 16ms/step - loss: 0.7059 - acc: 0.5479 - mean_absolute_error: 0.6528 - val_loss: 0.6349 - val_acc: 0.5844 - val_mean_absolute_error: 0.6090\n",
      "Epoch 42/50\n",
      "2203/2203 [==============================] - 37s 17ms/step - loss: 0.7061 - acc: 0.5443 - mean_absolute_error: 0.6532 - val_loss: 0.6348 - val_acc: 0.5844 - val_mean_absolute_error: 0.6087\n",
      "Epoch 43/50\n",
      "2203/2203 [==============================] - 38s 17ms/step - loss: 0.7064 - acc: 0.5515 - mean_absolute_error: 0.6535 - val_loss: 0.6348 - val_acc: 0.5862 - val_mean_absolute_error: 0.6088\n",
      "Epoch 44/50\n",
      "2203/2203 [==============================] - 39s 18ms/step - loss: 0.7061 - acc: 0.5529 - mean_absolute_error: 0.6530 - val_loss: 0.6348 - val_acc: 0.5844 - val_mean_absolute_error: 0.6088\n",
      "Epoch 45/50\n",
      "2203/2203 [==============================] - 44s 20ms/step - loss: 0.7060 - acc: 0.5474 - mean_absolute_error: 0.6530 - val_loss: 0.6348 - val_acc: 0.5844 - val_mean_absolute_error: 0.6087\n",
      "Epoch 46/50\n",
      "2203/2203 [==============================] - 38s 17ms/step - loss: 0.7060 - acc: 0.5488 - mean_absolute_error: 0.6532 - val_loss: 0.6347 - val_acc: 0.5826 - val_mean_absolute_error: 0.6085\n",
      "Epoch 47/50\n",
      "2203/2203 [==============================] - 36s 16ms/step - loss: 0.7058 - acc: 0.5511 - mean_absolute_error: 0.6528 - val_loss: 0.6347 - val_acc: 0.5826 - val_mean_absolute_error: 0.6084\n",
      "Epoch 48/50\n",
      "2203/2203 [==============================] - 35s 16ms/step - loss: 0.7060 - acc: 0.5556 - mean_absolute_error: 0.6528 - val_loss: 0.6347 - val_acc: 0.5826 - val_mean_absolute_error: 0.6084\n",
      "Epoch 49/50\n",
      "2203/2203 [==============================] - 35s 16ms/step - loss: 0.7059 - acc: 0.5506 - mean_absolute_error: 0.6530 - val_loss: 0.6347 - val_acc: 0.5844 - val_mean_absolute_error: 0.6085\n",
      "Epoch 50/50\n",
      "2203/2203 [==============================] - 32s 15ms/step - loss: 0.7058 - acc: 0.5470 - mean_absolute_error: 0.6528 - val_loss: 0.6347 - val_acc: 0.5826 - val_mean_absolute_error: 0.6085\n"
     ]
    }
   ],
   "source": [
    "history = model.fit(X_train, Y_train, \n",
    "                 validation_split=0.2, shuffle=True, \n",
    "                 epochs=50, batch_size=30)"
   ]
  },
  {
   "cell_type": "code",
   "execution_count": 20,
   "metadata": {},
   "outputs": [
    {
     "data": {
      "image/png": "[encoded data removed]",
      "text/plain": [
       "<Figure size 432x288 with 1 Axes>"
      ]
     },
     "metadata": {},
     "output_type": "display_data"
    },
    {
     "data": {
      "image/png": "[encoded data removed]",
      "text/plain": [
       "<Figure size 432x288 with 1 Axes>"
      ]
     },
     "metadata": {},
     "output_type": "display_data"
    }
   ],
   "source": [
    "def visualize(history):\n",
    "  plt.plot(history.history['mean_absolute_error'])\n",
    "  plt.plot(history.history['val_mean_absolute_error'])\n",
    "  plt.title('model mean absolute error')\n",
    "  plt.ylabel('mae')\n",
    "  plt.xlabel('epoch')\n",
    "  plt.legend(['train', 'test'], loc='upper left')\n",
    "  plt.show()\n",
    "  # summarize history for loss\n",
    "  plt.plot(history.history['loss'])\n",
    "  plt.plot(history.history['val_loss'])\n",
    "  plt.title('model loss')\n",
    "  plt.ylabel('loss')\n",
    "  plt.xlabel('epoch')\n",
    "  plt.legend(['train', 'test'], loc='upper left')\n",
    "  plt.show()\n",
    "visualize(history)\n"
   ]
  },
  {
   "cell_type": "code",
   "execution_count": 21,
   "metadata": {},
   "outputs": [
    {
     "name": "stdout",
     "output_type": "stream",
     "text": [
      "305/305 [==============================] - 1s 4ms/step\n"
     ]
    },
    {
     "data": {
      "text/plain": [
       "[0.5873698725075018, 0.46557377098036595, 0.5975316823505964]"
      ]
     },
     "execution_count": 21,
     "metadata": {},
     "output_type": "execute_result"
    }
   ],
   "source": [
    "model.evaluate(X_test, Y_test)"
   ]
  },
  {
   "cell_type": "code",
   "execution_count": 22,
   "metadata": {},
   "outputs": [
    {
     "data": {
      "text/plain": [
       "(50, 1)"
      ]
     },
     "execution_count": 22,
     "metadata": {},
     "output_type": "execute_result"
    }
   ],
   "source": [
    "test = X_test[0] # test = np.array([50 inputs])\n",
    "# test = (test-mean)/std\n",
    "# test.reshape(1,50,1)\n",
    "\n",
    "test.shape"
   ]
  },
  {
   "cell_type": "code",
   "execution_count": 23,
   "metadata": {},
   "outputs": [
    {
     "name": "stdout",
     "output_type": "stream",
     "text": [
      "average temperature predicted for next 10 year is [ 9.523295 18.146795 14.743913 10.255078  9.523295  9.523295  9.523295\n",
      "  9.523295  9.523295 10.135762]\n"
     ]
    }
   ],
   "source": [
    "k = model.predict(np.array([test]))\n",
    "k = k*std+mean\n",
    "print(\"average temperature predicted for next 10 year is\",k[0])"
   ]
  },
  {
   "cell_type": "code",
   "execution_count": null,
   "metadata": {
    "collapsed": true
   },
   "outputs": [],
   "source": []
  }
 ],
 "metadata": {
  "kernelspec": {
   "display_name": "Python 3",
   "language": "python",
   "name": "python3"
  },
  "language_info": {
   "codemirror_mode": {
    "name": "ipython",
    "version": 3
   },
   "file_extension": ".py",
   "mimetype": "text/x-python",
   "name": "python",
   "nbconvert_exporter": "python",
   "pygments_lexer": "ipython3",
   "version": "3.6.3"
  }
 },
 "nbformat": 4,
 "nbformat_minor": 2
}
